{
 "cells": [
  {
   "cell_type": "code",
   "execution_count": 3,
   "id": "981ef6d7-074c-469b-91d2-95fde57b82c4",
   "metadata": {
    "tags": []
   },
   "outputs": [
    {
     "name": "stdout",
     "output_type": "stream",
     "text": [
      "hello world\n"
     ]
    }
   ],
   "source": [
    "print('hello world')\n"
   ]
  },
  {
   "cell_type": "code",
   "execution_count": 2,
   "id": "30b07b9c-c154-4fb9-95f7-95d7b4676fe3",
   "metadata": {},
   "outputs": [],
   "source": [
    "import pandas as pd\n",
    "import numpy as np"
   ]
  },
  {
   "cell_type": "code",
   "execution_count": 4,
   "id": "97f27141-b657-4a58-a7a8-fabae69c9de4",
   "metadata": {},
   "outputs": [
    {
     "name": "stdout",
     "output_type": "stream",
     "text": [
      "The answer is 233168\n"
     ]
    }
   ],
   "source": [
    "# Problem 1\n",
    "a = 0\n",
    "b = 0\n",
    "c = 0\n",
    "for x in range(1,1000):\n",
    "    if x % 3 ==0:\n",
    "        a += x\n",
    "for x in range(1,1000):\n",
    "    if x % 5 ==  0:\n",
    "        b+= x\n",
    "        \n",
    "for x in range(1,1000):\n",
    "    if x % 15 == 0:\n",
    "        c+= x\n",
    "\n",
    "\n",
    "print(\"The answer is\",a+b-c)"
   ]
  },
  {
   "cell_type": "code",
   "execution_count": 32,
   "id": "075592f2-2a7e-4042-b969-5e23c7b012d7",
   "metadata": {
    "tags": []
   },
   "outputs": [
    {
     "name": "stdout",
     "output_type": "stream",
     "text": [
      "Fibonacci less than 4 million:  [0, 1, 2, 3, 5, 8, 13, 21, 34, 55, 89, 144, 233, 377, 610, 987, 1597, 2584, 4181, 6765, 10946, 17711, 28657, 46368, 75025, 121393, 196418, 317811, 514229, 832040, 1346269, 2178309, 3524578, 5702887]\n",
      "Even Fibonacci less than 4 million:  [0, 2, 8, 34, 144, 610, 2584, 10946, 46368, 196418, 832040, 3524578]\n",
      "Sum of even Fibbonaci less than 4 million:  4613732\n"
     ]
    }
   ],
   "source": [
    "#Problem 2\n",
    "\n",
    "\n",
    "n = 4000000\n",
    "num1 = 0\n",
    "num2 = 1\n",
    "next_num = num2\n",
    "count =1\n",
    "fib = [num1]\n",
    "while next_num <= n:\n",
    "    count += 1\n",
    "    next_num = num1 + num2\n",
    "    fib.append(next_num)\n",
    "    num1 = num2\n",
    "    num2 = next_num\n",
    "\n",
    "print(\"Fibonacci less than 4 million: \",fib)\n",
    "even_fib =[]\n",
    "fib_sum = 0\n",
    "for i in fib:\n",
    "    if i % 2 == 0:\n",
    "        fib_sum += i\n",
    "        even_fib.append(i)\n",
    "print(\"Even Fibonacci less than 4 million: \",even_fib)        \n",
    "print(\"Sum of even Fibbonaci less than 4 million: \",fib_sum) "
   ]
  },
  {
   "cell_type": "code",
   "execution_count": 39,
   "id": "d417d0c2-7ca2-4549-9a16-a39746b9c6de",
   "metadata": {
    "tags": []
   },
   "outputs": [
    {
     "name": "stdout",
     "output_type": "stream",
     "text": [
      "Largest Prime factor is:  6857.0\n"
     ]
    }
   ],
   "source": [
    "n = 600851475143\n",
    "i = 2\n",
    "while i * i < n:\n",
    "    while n % i == 0:\n",
    "        n = n / i \n",
    "    i = i + 1\n",
    "    \n",
    "    \n",
    "print(\"Largest Prime factor is: \",n)"
   ]
  },
  {
   "cell_type": "code",
   "execution_count": null,
   "id": "ff59cb32-a6b3-402b-abe8-ed5703bcaf3a",
   "metadata": {},
   "outputs": [],
   "source": []
  }
 ],
 "metadata": {
  "kernelspec": {
   "display_name": "Python 3 (ipykernel)",
   "language": "python",
   "name": "python3"
  },
  "language_info": {
   "codemirror_mode": {
    "name": "ipython",
    "version": 3
   },
   "file_extension": ".py",
   "mimetype": "text/x-python",
   "name": "python",
   "nbconvert_exporter": "python",
   "pygments_lexer": "ipython3",
   "version": "3.9.7"
  }
 },
 "nbformat": 4,
 "nbformat_minor": 5
}
